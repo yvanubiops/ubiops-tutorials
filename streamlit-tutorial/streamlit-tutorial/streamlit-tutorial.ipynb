{
 "cells": [
  {
   "cell_type": "markdown",
   "metadata": {},
   "source": [
    "# Streamlit & port forwarding tutorial"
   ]
  },
  {
   "attachments": {},
   "cell_type": "markdown",
   "metadata": {},
   "source": [
    "Note: This notebook runs on Python 3.11 and uses UbiOps Client Library 3.15.0.\n",
    "\n",
    "In this notebook we will show you the following:\n",
    "\n",
    "1. How to set-up a Streamlitdashboard that creates an interface for deployments inside your project.\n",
    "2. How to host that dashboard locally.\n",
    "3. How to run the dashboard in a deployment in UbiOps using the [port forwarding functionality](https://ubiops.com/docs/deployments/deployment-versions/#opening-up-a-port-from-your-deployment-beta).\n",
    "\n",
    "To set-up this workflow, we will create two deployments:\n",
    "\n",
    "- `image-recognition`: which will host a model that predicts hand written digits.\n",
    "- `streamlit-host`: which will host a Streamlit dashboard using the 'port forwarding' functionality.\n",
    "\n",
    "We will also create two Streamlit dashboards in this notebook, the first dashboard will be connected to the `image-recognition`\n",
    "deployment and hosted locally. The second Streamlit dashboard will be hosted on the `streamlit-host` deployment, by \n",
    "spinning up a streamlitserver in the deployment, and opening up it's relevant port using the port-forwarding functionality.\n",
    "\n",
    "Be aware that you cannot run everything in one go, because halfway a streamlit server is spun up on localhost."
   ]
  },
  {
   "cell_type": "markdown",
   "metadata": {},
   "source": [
    "To interface with UbiOps through code we need the UbiOps Python client library. In the following cell it will be installed."
   ]
  },
  {
   "cell_type": "code",
   "execution_count": null,
   "metadata": {},
   "outputs": [],
   "source": [
    "!pip install -qU UbiOps"
   ]
  },
  {
   "cell_type": "markdown",
   "metadata": {},
   "source": [
    "## Establishing a connection with your UbiOps environment"
   ]
  },
  {
   "cell_type": "markdown",
   "metadata": {},
   "source": [
    "Add your API token and project name. We provide a deployment and deployment version name. Afterwards we connect to the UbiOps API via our Python Client. This way we can deploy the MNIST model to your environment."
   ]
  },
  {
   "cell_type": "code",
   "execution_count": null,
   "metadata": {},
   "outputs": [],
   "source": [
    "import ubiops\n",
    "\n",
    "API_TOKEN = \"<INSERT API_TOKEN WITH PROJECT EDITOR RIGHTS>\"  # Make sure this is in the format \"Token token-code\"\n",
    "PROJECT_NAME = \"<INSERT PROJECT NAME IN YOUR ACCOUNT>\"\n",
    "\n",
    "\n",
    "DEPLOYMENT_NAME = \"image-recognition\"\n",
    "DEPLOYMENT_VERSION = \"v1\"\n",
    "\n",
    "# Initialize client library\n",
    "configuration = ubiops.Configuration(host=\"https://api.ubiops.com/v2.1\")\n",
    "configuration.api_key[\"Authorization\"] = API_TOKEN\n",
    "\n",
    "# Establish a connection\n",
    "client = ubiops.ApiClient(configuration)\n",
    "api = ubiops.CoreApi(client)\n",
    "print(api.projects_get(PROJECT_NAME))"
   ]
  },
  {
   "cell_type": "markdown",
   "metadata": {},
   "source": [
    "## Download the MNIST image recognition model "
   ]
  },
  {
   "cell_type": "markdown",
   "metadata": {},
   "source": [
    "For this tutorial we have prepared a basic deployment package that we can integrate into our Streamlit dashboard. Let us download the [deployment package](https://ubiops.com/docs/deployments/deployment-package/deployment-structure/) which you can also find in our \n",
    "[Git Repository](https://github.com/UbiOps/tutorials/tree/master/ready-deployments/image-recognition/mnist_deployment_package): "
   ]
  },
  {
   "cell_type": "code",
   "execution_count": null,
   "metadata": {},
   "outputs": [],
   "source": [
    "!curl -OJ \"https://storage.googleapis.com/ubiops/example-deployment-packages/mnist_deployment_package.zip\""
   ]
  },
  {
   "cell_type": "markdown",
   "metadata": {},
   "source": [
    "# 1. How to set-up a Streamlitdashboard that creates an interface for deployments inside your project."
   ]
  },
  {
   "cell_type": "markdown",
   "metadata": {},
   "source": [
    "## Create the deployment\n",
    "\n",
    "Create a deployment. Here we define the in- and outputs of a model. We can create different deployment versions. For this \n",
    "deployment we will use the following configuration:\n",
    "\n",
    "|Deployment input & output variables| **Variable name** |**Data type** |\n",
    "|--------------------|--------------|--------------|\n",
    "| **Input fields**   | image | file |\n",
    "| **Output fields**  | prediction | integer |\n",
    "|                    | probability        | double precision |"
   ]
  },
  {
   "cell_type": "code",
   "execution_count": null,
   "metadata": {},
   "outputs": [],
   "source": [
    "# Create the deployment\n",
    "deployment_template = ubiops.DeploymentCreate(\n",
    "    name=DEPLOYMENT_NAME,\n",
    "    description=\"image-recognition\",\n",
    "    input_type=\"structured\",\n",
    "    output_type=\"structured\",\n",
    "    input_fields=[\n",
    "        {\"name\": \"image\", \"data_type\": \"file\"},\n",
    "    ],\n",
    "    output_fields=[\n",
    "        {\"name\": \"prediction\", \"data_type\": \"int\"},\n",
    "        {\"name\": \"probability\", \"data_type\": \"double\"},\n",
    "    ],\n",
    "    labels={\"demo\": \"MNIST-Streamlit\"},\n",
    ")\n",
    "\n",
    "api.deployments_create(project_name=PROJECT_NAME, data=deployment_template)"
   ]
  },
  {
   "cell_type": "markdown",
   "metadata": {},
   "source": [
    "### Create a deployment version\n",
    "\n",
    "Now we will create a version of the deployment. For the version we need to define the name, the environment, the type of instance (CPU or GPU) as well the size of the instance."
   ]
  },
  {
   "cell_type": "code",
   "execution_count": null,
   "metadata": {},
   "outputs": [],
   "source": [
    "# Create the version\n",
    "version_template = ubiops.DeploymentVersionCreate(\n",
    "    version=DEPLOYMENT_VERSION,\n",
    "    environment=\"python3-11\",\n",
    "    instance_type=\"512mb\",\n",
    "    minimum_instances=0,\n",
    "    maximum_instances=1,\n",
    "    maximum_idle_time=1800,  # = 30 minutes\n",
    "    request_retention_mode=\"full\",\n",
    ")\n",
    "\n",
    "api.deployment_versions_create(\n",
    "    project_name=PROJECT_NAME, deployment_name=DEPLOYMENT_NAME, data=version_template\n",
    ")"
   ]
  },
  {
   "cell_type": "markdown",
   "metadata": {},
   "source": [
    "#### Upload the deployment package to UbiOps"
   ]
  },
  {
   "cell_type": "code",
   "execution_count": null,
   "metadata": {},
   "outputs": [],
   "source": [
    "import shutil\n",
    "\n",
    "deployment_code_archive = shutil.make_archive(\n",
    "    \"mnist_deployment_package\", \"zip\", \"mnist_deployment_package\"\n",
    ")\n",
    "\n",
    "# Upload the zipped deployment package\n",
    "file_upload_result = api.revisions_file_upload(\n",
    "    project_name=PROJECT_NAME,\n",
    "    deployment_name=DEPLOYMENT_NAME,\n",
    "    version=DEPLOYMENT_VERSION,\n",
    "    file=\"mnist_deployment_package.zip\",\n",
    ")\n",
    "\n",
    "ubiops.utils.wait_for_deployment_version(\n",
    "    client=api.api_client,\n",
    "    project_name=PROJECT_NAME,\n",
    "    deployment_name=DEPLOYMENT_NAME,\n",
    "    version=DEPLOYMENT_VERSION,\n",
    "    revision_id=file_upload_result.revision,\n",
    ")"
   ]
  },
  {
   "cell_type": "markdown",
   "metadata": {},
   "source": [
    "# 2. How to host that dashboard locally.\n",
    "\n",
    "Enter your API token and Project in the Streamlit file. Then download the Streamlit package"
   ]
  },
  {
   "cell_type": "code",
   "execution_count": null,
   "metadata": {},
   "outputs": [],
   "source": [
    "%%writefile mnist-streamlit.py\n",
    "import streamlit as st\n",
    "import ubiops \n",
    "import tempfile\n",
    "from time import sleep\n",
    "from ubiops import utils\n",
    "\n",
    "st.title(\"Streamlit and UbiOps example\")\n",
    "\n",
    "# Connect with your UbiOps environment\n",
    "API_TOKEN = '<INSERT API_TOKEN WITH PROJECT EDITOR RIGHTS>' # Make sure this is in the format \"Token token-code\"\n",
    "PROJECT_NAME = '<INSERT PROJECT NAME IN YOUR ACCOUNT>'\n",
    "\n",
    "DEPLOYMENT_NAME = 'image-recognition'\n",
    "\n",
    "# API setup \n",
    "if PROJECT_NAME and API_TOKEN and DEPLOYMENT_NAME:\n",
    "    # Only reconnect if API object is not in session state\n",
    "    if 'ubiops_api' not in st.session_state:\n",
    "        with st.spinner(\"Connecting to UbiOps API\"):\n",
    "            configuration = ubiops.Configuration(host=\"https://api.ubiops.com/v2.1\")\n",
    "            configuration.api_key['Authorization'] = API_TOKEN\n",
    "\n",
    "            st.session_state.client = ubiops.ApiClient(configuration)\n",
    "            st.session_state.ubiops_api = ubiops.CoreApi(st.session_state.client)\n",
    "            deployment_info = st.session_state.ubiops_api.deployments_get(PROJECT_NAME,DEPLOYMENT_NAME)\n",
    "           \n",
    "            print(deployment_info)\n",
    "            \n",
    "            sleep(2) # sleep for 2s to showcase progress spinners\n",
    "            \n",
    "            # Use the streamlit session to store API object\n",
    "            if(st.session_state.ubiops_api.service_status().status == 'ok' ):\n",
    "                st.success(\"Connected to UbiOps API!\")\n",
    "            else:\n",
    "                st.error(\"Not connected!\")\n",
    "                \n",
    "\n",
    "\n",
    "# File upload\n",
    "upload_file = st.file_uploader(\"Choose a file\")\n",
    "if upload_file is not None:\n",
    "    if 'results' not in st.session_state:\n",
    "        st.session_state.results = []\n",
    "    with open(\"out.txt\", \"wb\") as outfile:\n",
    "        # Copy the BytesIO stream to the output file\n",
    "        outfile.write(upload_file.getvalue())\n",
    "    file_uri = ubiops.utils.upload_file(st.session_state.client, PROJECT_NAME, 'out.txt')\n",
    "    # Make a request using the file URI as input.\n",
    "    data = {'image': file_uri}\n",
    "    \n",
    "    result = st.session_state.ubiops_api.deployment_requests_create(\n",
    "        project_name=PROJECT_NAME,\n",
    "        deployment_name=DEPLOYMENT_NAME,\n",
    "        data=data\n",
    "    )\n",
    "    # Store results in session\n",
    "    st.session_state.results.append([result,upload_file])\n",
    "\n",
    "# Show all results in from session\n",
    "if 'results' in st.session_state: \n",
    "    for r in st.session_state.results[::-1]:\n",
    "        c1, c2 = st.columns(2)\n",
    "        c2.write(r[0].result)\n",
    "        c1.image(r[1])\n"
   ]
  },
  {
   "cell_type": "markdown",
   "metadata": {},
   "source": [
    "Install the Streamlit package"
   ]
  },
  {
   "cell_type": "code",
   "execution_count": null,
   "metadata": {},
   "outputs": [],
   "source": [
    "!pip install streamlit"
   ]
  },
  {
   "cell_type": "markdown",
   "metadata": {},
   "source": [
    "Now it is time to connect to spin up the Streamlitdashboard on our localhost:"
   ]
  },
  {
   "cell_type": "code",
   "execution_count": null,
   "metadata": {},
   "outputs": [],
   "source": [
    "!streamlit run mnist-streamlit.py"
   ]
  },
  {
   "cell_type": "markdown",
   "metadata": {},
   "source": [
    "You can download example request data by [clicking here](https://storage.googleapis.com/ubiops/data/Integration%20with%20other%20tools/streamlit-integration/streamlit-integration-request.zip)"
   ]
  },
  {
   "cell_type": "markdown",
   "metadata": {},
   "source": [
    "# 3. How to run the dashboard in a deployment in UbiOps using the port forwarding functionality.\n",
    "\n",
    "It is also possible to host your Streamlit dashboard on a UbiOps deployment. so that you expose the dashboard to the public. \n",
    "We can run Streamlit dashboards on UbiOps by means of port forwarding. Note that not every instance type available on UbiOps has port forwarding enabled.\n",
    "\n",
    "In order to enable port forwarding we have to alter the `deployment.py` a bit, we also need to at streamlit to a custom\n",
    "environment. Let's first create a new deployment package, and then push it to UbiOps."
   ]
  },
  {
   "cell_type": "code",
   "execution_count": null,
   "metadata": {},
   "outputs": [],
   "source": [
    "%mkdir deployment_package_streamlit"
   ]
  },
  {
   "cell_type": "code",
   "execution_count": null,
   "metadata": {},
   "outputs": [],
   "source": [
    "import subprocess\n",
    "import urllib.request\n",
    "import uuid\n",
    "\n",
    "\n",
    "class UbiOpsError(Exception):\n",
    "    def __init__(self, error_message):\n",
    "        super().__init__()\n",
    "        self.public_error_message = error_message\n",
    "\n",
    "\n",
    "class Deployment:\n",
    "    def __init__(self):\n",
    "        token = str(uuid.uuid4())\n",
    "\n",
    "        self.proc = None\n",
    "        self.port = \"8888\"\n",
    "\n",
    "        print(\"Starting up Streamlitt app\")\n",
    "        try:\n",
    "            self.proc = subprocess.Popen(\n",
    "                [\n",
    "                    \"streamlit\",\n",
    "                    \"run\",\n",
    "                    \"streamlit-app.py\",\n",
    "                    \"--server.address\",\n",
    "                    \"0.0.0.0\",\n",
    "                    \"--server.port\",\n",
    "                    self.port,\n",
    "                    \"--browser.gatherUsageStats\",\n",
    "                    \"false\",\n",
    "                ]\n",
    "            )\n",
    "            outs, errs = self.proc.communicate(timeout=10)\n",
    "            print(outs, errs)\n",
    "\n",
    "        except FileNotFoundError:\n",
    "            raise UbiOpsError(\"Unable to start streamlit: streamlit is unknown\")\n",
    "\n",
    "        except subprocess.TimeoutExpired:\n",
    "            print(\n",
    "                \"Streamlit continues running in the background. No more logs from now on...\"\n",
    "            )\n",
    "\n",
    "        # Get the IP address and print to the logs\n",
    "        http_request = urllib.request.urlopen(\"http://whatismyip.akamai.com\")\n",
    "        self.ip_address = http_request.read().decode(\"utf8\")\n",
    "        http_request.close()\n",
    "\n",
    "        print(f\"The IP address of this deployment is: {self.ip_address}\")\n",
    "\n",
    "        self.dashboard_url = f\"http://{self.ip_address}:8888/tree?token={token}\"\n",
    "        print(f\"Dashboard URL: {self.dashboard_url}\")\n",
    "\n",
    "    def request(self, data):\n",
    "        return {\n",
    "            \"ip_address\": self.ip_address,\n",
    "            \"dashboard_url\": self.dashboard_url,\n",
    "            \"port\": int(self.port),\n",
    "        }\n",
    "\n",
    "    def stop(self):\n",
    "        if self.proc is not None:\n",
    "            self.proc.kill()"
   ]
  },
  {
   "cell_type": "code",
   "execution_count": null,
   "metadata": {},
   "outputs": [],
   "source": [
    "%%writefile deployment_package_streamlit/requirements.txt\n",
    "streamlit==1.32.1\n",
    "ubiops==4.3.0"
   ]
  },
  {
   "cell_type": "markdown",
   "metadata": {},
   "source": [
    "### We now have our deployment package. Let's create a deployment and upload the package as a revision to it.\n",
    "\n",
    "Note that the deployment above handles the image in the same manner as the deployment we created earlier, but for demonstration\n",
    "purposes we now also return the `ip_address` and `port`."
   ]
  },
  {
   "cell_type": "code",
   "execution_count": null,
   "metadata": {},
   "outputs": [],
   "source": [
    "STREAMLIT_DEPLOYMENT_NAME = \"streamlit-host\"\n",
    "STREAMLIT_VERSION_NAME = \"v1\""
   ]
  },
  {
   "cell_type": "code",
   "execution_count": null,
   "metadata": {},
   "outputs": [],
   "source": [
    "# Create the deployment\n",
    "deployment_template = ubiops.DeploymentCreate(\n",
    "    name=STREAMLIT_DEPLOYMENT_NAME,\n",
    "    description=\"image-recognition\",\n",
    "    input_type=\"plain\",\n",
    "    output_type=\"structured\",\n",
    "    output_fields=[\n",
    "        {\"name\": \"ip_address\", \"data_type\": \"string\"},\n",
    "        {\"name\": \"dashboard_url\", \"data_type\": \"string\"},\n",
    "        {\"name\": \"port\", \"data_type\": \"int\"},\n",
    "    ],\n",
    "    labels={\"demo\": \"streamlit-hosting\"},\n",
    ")\n",
    "\n",
    "api.deployments_create(project_name=PROJECT_NAME, data=deployment_template)"
   ]
  },
  {
   "cell_type": "markdown",
   "metadata": {},
   "source": [
    "### Create the version"
   ]
  },
  {
   "cell_type": "code",
   "execution_count": null,
   "metadata": {},
   "outputs": [],
   "source": [
    "# Create the version\n",
    "version_template = ubiops.DeploymentVersionCreate(\n",
    "    version=STREAMLIT_VERSION_NAME,\n",
    "    environment=\"python3-11\",\n",
    "    instance_type=\"8192mb_dedicated\",\n",
    "    minimum_instances=0,\n",
    "    maximum_instances=1,\n",
    "    maximum_idle_time=30,  # = 30 minutes\n",
    "    request_retention_mode=\"full\",\n",
    "    ports=[{\"public_port\": 8888, \"deployment_port\": 8888, \"protocol\": \"tcp\"}],\n",
    ")\n",
    "\n",
    "api.deployment_versions_create(\n",
    "    project_name=PROJECT_NAME,\n",
    "    deployment_name=STREAMLIT_DEPLOYMENT_NAME,\n",
    "    data=version_template,\n",
    ")"
   ]
  },
  {
   "cell_type": "code",
   "execution_count": null,
   "metadata": {},
   "outputs": [],
   "source": [
    "import shutil\n",
    "\n",
    "shutil.make_archive(\n",
    "    \"deployment_package_streamlit\", \"zip\", \"deployment_package_streamlit\"\n",
    ")"
   ]
  },
  {
   "cell_type": "code",
   "execution_count": null,
   "metadata": {},
   "outputs": [],
   "source": [
    "# Upload the zipped deployment package\n",
    "file_upload_result = api.revisions_file_upload(\n",
    "    project_name=PROJECT_NAME,\n",
    "    deployment_name=STREAMLIT_DEPLOYMENT_NAME,\n",
    "    version=DEPLOYMENT_VERSION,\n",
    "    file=\"deployment_package_streamlit.zip\",\n",
    ")\n",
    "\n",
    "ubiops.utils.wait_for_deployment_version(\n",
    "    client=api.api_client,\n",
    "    project_name=PROJECT_NAME,\n",
    "    deployment_name=STREAMLIT_DEPLOYMENT_NAME,\n",
    "    version=DEPLOYMENT_VERSION,\n",
    "    revision_id=file_upload_result.revision,\n",
    ")"
   ]
  },
  {
   "cell_type": "markdown",
   "metadata": {},
   "source": []
  },
  {
   "cell_type": "code",
   "execution_count": null,
   "metadata": {},
   "outputs": [],
   "source": [
    "%%writefile deployment_package_streamlit/streamlit-app.py\n",
    "\n",
    "from time import sleep\n",
    "\n",
    "import streamlit as st\n",
    "import ubiops\n",
    "from ubiops import utils\n",
    "\n",
    "st.title(\"Streamlit and UbiOps example\")\n",
    "\n",
    "# Connect with your UbiOps environment\n",
    "API_TOKEN = '<INSERT API_TOKEN WITH PROJECT EDITOR RIGHTS>' # Make sure this is in the format \"Token token-code\"\n",
    "PROJECT_NAME = '<INSERT PROJECT NAME IN YOUR ACCOUNT>'\n",
    "DEPLOYMENT_NAME = 'image-recognition'\n",
    "\n",
    "# API setup \n",
    "if PROJECT_NAME and API_TOKEN and DEPLOYMENT_NAME:\n",
    "    # Only reconnect if API object is not in session state\n",
    "    if 'ubiops_api' not in st.session_state:\n",
    "        with st.spinner(\"Connecting to UbiOps API\"):\n",
    "            configuration = ubiops.Configuration(host=\"https://api.ubiops.com/v2.1\")\n",
    "            configuration.api_key['Authorization'] = API_TOKEN\n",
    "\n",
    "            st.session_state.client = ubiops.ApiClient(configuration)\n",
    "            st.session_state.ubiops_api = ubiops.CoreApi(st.session_state.client)\n",
    "            deployment_info = st.session_state.ubiops_api.deployments_get(PROJECT_NAME,DEPLOYMENT_NAME)\n",
    "           \n",
    "            print(deployment_info)\n",
    "            \n",
    "            sleep(2) # sleep for 2s to showcase progress spinners\n",
    "            \n",
    "            # Use the streamlit session to store API object\n",
    "            if(st.session_state.ubiops_api.service_status().status == 'ok' ):\n",
    "                st.success(\"Connected to UbiOps API!\")\n",
    "            else:\n",
    "                st.error(\"Not connected!\")\n",
    "\n",
    "# File upload\n",
    "upload_file = st.file_uploader(\"Choose a file\")\n",
    "if upload_file is not None:\n",
    "    if 'results' not in st.session_state:\n",
    "        st.session_state.results = []\n",
    "    with open(\"out.txt\", \"wb\") as outfile:\n",
    "        # Copy the BytesIO stream to the output file\n",
    "        outfile.write(upload_file.getvalue())\n",
    "    file_uri = ubiops.utils.upload_file(st.session_state.client, PROJECT_NAME, 'out.txt')\n",
    "    \n",
    "    # Make a request using the file URI as input.\n",
    "    result = st.session_state.ubiops_api.deployment_requests_create(\n",
    "        project_name=PROJECT_NAME,\n",
    "        deployment_name=DEPLOYMENT_NAME,\n",
    "        data={'image': file_uri}\n",
    "    )\n",
    "    # Store results in session\n",
    "    st.session_state.results.append([result,upload_file])\n",
    "\n",
    "    # Store results in session\n",
    "    st.session_state.results.append([result, upload_file])\n",
    "\n",
    "# Show all results in from session\n",
    "if 'results' in st.session_state:\n",
    "    for r in st.session_state.results[::-1]:\n",
    "        c1, c2 = st.columns(2)\n",
    "        c2.write(r[0].result)\n",
    "        c1.image(r[1])"
   ]
  },
  {
   "cell_type": "code",
   "execution_count": null,
   "metadata": {},
   "outputs": [],
   "source": [
    "!streamlit run deployment_package_streamlit/streamlit-app.py"
   ]
  },
  {
   "cell_type": "markdown",
   "metadata": {},
   "source": [
    "So that's it! You have just created two deployments, and connected the two of them using port forwarding!"
   ]
  }
 ],
 "metadata": {
  "kernelspec": {
   "display_name": "Python 3",
   "language": "python",
   "name": "python3"
  },
  "language_info": {
   "codemirror_mode": {
    "name": "ipython",
    "version": 3
   },
   "file_extension": ".py",
   "mimetype": "text/x-python",
   "name": "python",
   "nbconvert_exporter": "python",
   "pygments_lexer": "ipython3",
   "version": "3.10.1"
  },
  "orig_nbformat": 4,
  "vscode": {
   "interpreter": {
    "hash": "98590ff4fe04c8543246b2a01debd3de3c5ca9b666f43f1fa87d5110c692004c"
   }
  }
 },
 "nbformat": 4,
 "nbformat_minor": 2
}
